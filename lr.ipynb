{
 "cells": [
  {
   "cell_type": "code",
   "execution_count": 29,
   "metadata": {
    "collapsed": true
   },
   "outputs": [],
   "source": [
    "#import required packages\n",
    "import numpy as np\n",
    "import matplotlib.pyplot as plt\n",
    "import pandas as pd"
   ]
  },
  {
   "cell_type": "code",
   "execution_count": 30,
   "metadata": {},
   "outputs": [
    {
     "name": "stdout",
     "output_type": "stream",
     "text": [
      "   hours_spent  risk_score\n",
      "0           10          95\n",
      "1            9          80\n",
      "2            2          10\n",
      "3           15          50\n",
      "4           10          45\n",
      "5           16          98\n",
      "6           11          38\n",
      "7           16          93\n"
     ]
    }
   ],
   "source": [
    "# Read Dataset\n",
    "dataset=pd.read_csv(\"hours.csv\")\n",
    "\n",
    "\n",
    "X=dataset.iloc[:,:-1].values # except last values\n",
    "y=dataset.iloc[:,1].values   # output will be last\n",
    "print(dataset)\n"
   ]
  },
  {
   "cell_type": "code",
   "execution_count": 31,
   "metadata": {},
   "outputs": [
    {
     "name": "stdout",
     "output_type": "stream",
     "text": [
      "[[10]\n",
      " [ 9]\n",
      " [ 2]\n",
      " [15]\n",
      " [10]\n",
      " [16]\n",
      " [11]\n",
      " [16]]\n"
     ]
    }
   ],
   "source": [
    "print(X)"
   ]
  },
  {
   "cell_type": "code",
   "execution_count": 32,
   "metadata": {},
   "outputs": [
    {
     "name": "stdout",
     "output_type": "stream",
     "text": [
      "[95 80 10 50 45 98 38 93]\n"
     ]
    }
   ],
   "source": [
    "print(y)"
   ]
  },
  {
   "cell_type": "code",
   "execution_count": null,
   "metadata": {},
   "outputs": [],
   "source": []
  },
  {
   "cell_type": "code",
   "execution_count": null,
   "metadata": {},
   "outputs": [],
   "source": []
  },
  {
   "cell_type": "code",
   "execution_count": 33,
   "metadata": {
    "collapsed": true
   },
   "outputs": [],
   "source": [
    "# Import the Linear Regression and Create object of it\n",
    "from sklearn.linear_model import LinearRegression\n",
    "\n",
    "# creates the object of regression\n",
    "regressor=LinearRegression() "
   ]
  },
  {
   "cell_type": "code",
   "execution_count": 34,
   "metadata": {},
   "outputs": [
    {
     "data": {
      "text/plain": [
       "12.584627964022907"
      ]
     },
     "execution_count": 34,
     "metadata": {},
     "output_type": "execute_result"
    }
   ],
   "source": [
    "# train the data here X is input and y is the output\n",
    "\n",
    "regressor.fit(X,y) # fit function is used to create regression\n",
    "\n",
    "# after creating regression  it will creates the coeficient and intercept\n",
    "regressor.coef_\n",
    "regressor.intercept_"
   ]
  },
  {
   "cell_type": "code",
   "execution_count": 41,
   "metadata": {},
   "outputs": [
    {
     "name": "stdout",
     "output_type": "stream",
     "text": [
      "Accuracy:\n"
     ]
    },
    {
     "data": {
      "text/plain": [
       "43.709481451010035"
      ]
     },
     "execution_count": 41,
     "metadata": {},
     "output_type": "execute_result"
    }
   ],
   "source": [
    "# now calculate the accuracy how much data is fitted\n",
    "print (\"Accuracy:\") \n",
    "regressor.score(X, y)*100\n"
   ]
  },
  {
   "cell_type": "code",
   "execution_count": 42,
   "metadata": {},
   "outputs": [
    {
     "name": "stdout",
     "output_type": "stream",
     "text": [
      "[ 58.46361406]\n"
     ]
    }
   ],
   "source": [
    "\n",
    "# Predict the value using Regressor Object\n",
    "y_pred=regressor.predict([[10]])\n",
    "print(y_pred)"
   ]
  },
  {
   "cell_type": "code",
   "execution_count": 43,
   "metadata": {},
   "outputs": [
    {
     "name": "stdout",
     "output_type": "stream",
     "text": [
      "hours10\n"
     ]
    },
    {
     "data": {
      "text/plain": [
       "10"
      ]
     },
     "execution_count": 43,
     "metadata": {},
     "output_type": "execute_result"
    }
   ],
   "source": [
    "# Take user input\n",
    "hours=int(input('hours'))\n",
    "\n",
    "# display hours enter by \n",
    "hours"
   ]
  },
  {
   "cell_type": "code",
   "execution_count": 44,
   "metadata": {},
   "outputs": [
    {
     "name": "stdout",
     "output_type": "stream",
     "text": [
      "[ 58.46361406]\n"
     ]
    }
   ],
   "source": [
    "#calculate the value of y by applying equation\n",
    "eq=regressor.coef_*hours+regressor.intercept_\n",
    "\n",
    "#print it\n",
    "print(eq)"
   ]
  },
  {
   "cell_type": "code",
   "execution_count": 46,
   "metadata": {},
   "outputs": [
    {
     "name": "stdout",
     "output_type": "stream",
     "text": [
      "[ 58.46361406]\n"
     ]
    }
   ],
   "source": [
    "# check prediction equality\n",
    "y_pred=regressor.predict([[hours]])\n",
    "print(y_pred)"
   ]
  },
  {
   "cell_type": "code",
   "execution_count": 47,
   "metadata": {},
   "outputs": [
    {
     "data": {
      "image/png": "[encoded data removed]",
      "text/plain": [
       "<matplotlib.figure.Figure at 0x7efe049e7ac8>"
      ]
     },
     "metadata": {},
     "output_type": "display_data"
    }
   ],
   "source": [
    "## Plot and check actual value and predicted values with accuracy of linear regression.\n",
    "plt.plot(X,y,'o')\n",
    "plt.plot(X,regressor.predict(X));\n",
    "plt.show()"
   ]
  },
  {
   "cell_type": "code",
   "execution_count": 39,
   "metadata": {},
   "outputs": [
    {
     "name": "stdout",
     "output_type": "stream",
     "text": [
      "y :\n",
      "4.587899*10.000000+12.584628\n",
      "Risk Score :  58.4636140638\n"
     ]
    }
   ],
   "source": [
    "y='%f*%f+%f' %(regressor.coef_,hours,regressor.intercept_)\n",
    "print(\"y :\")\n",
    "print(y)\n",
    "print(\"Risk Score : \", eq[0])"
   ]
  },
  {
   "cell_type": "code",
   "execution_count": null,
   "metadata": {
    "collapsed": true
   },
   "outputs": [],
   "source": []
  }
 ],
 "metadata": {
  "kernelspec": {
   "display_name": "Python 3",
   "language": "python",
   "name": "python3"
  },
  "language_info": {
   "codemirror_mode": {
    "name": "ipython",
    "version": 3
   },
   "file_extension": ".py",
   "mimetype": "text/x-python",
   "name": "python",
   "nbconvert_exporter": "python",
   "pygments_lexer": "ipython3",
   "version": "3.6.3"
  }
 },
 "nbformat": 4,
 "nbformat_minor": 2
}
